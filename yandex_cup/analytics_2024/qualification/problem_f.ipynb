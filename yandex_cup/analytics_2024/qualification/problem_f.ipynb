{
 "cells": [
  {
   "cell_type": "code",
   "execution_count": 1,
   "metadata": {},
   "outputs": [],
   "source": [
    "import pandas as pd\n",
    "import warnings\n",
    "warnings.filterwarnings('ignore')"
   ]
  },
  {
   "cell_type": "code",
   "execution_count": 2,
   "metadata": {},
   "outputs": [],
   "source": [
    "merchants = pd.read_excel('./merchants.xlsx')\n",
    "transactions = pd.read_excel('./transactions.xlsx')\n",
    "transactions = transactions[['merchantid', 'cost', 'countertype',\n",
    "                             'date', 'fraudbits', 'model_cost']]"
   ]
  },
  {
   "cell_type": "code",
   "execution_count": 3,
   "metadata": {},
   "outputs": [
    {
     "data": {
      "text/html": [
       "<div>\n",
       "<style scoped>\n",
       "    .dataframe tbody tr th:only-of-type {\n",
       "        vertical-align: middle;\n",
       "    }\n",
       "\n",
       "    .dataframe tbody tr th {\n",
       "        vertical-align: top;\n",
       "    }\n",
       "\n",
       "    .dataframe thead th {\n",
       "        text-align: right;\n",
       "    }\n",
       "</style>\n",
       "<table border=\"1\" class=\"dataframe\">\n",
       "  <thead>\n",
       "    <tr style=\"text-align: right;\">\n",
       "      <th></th>\n",
       "      <th>coef</th>\n",
       "      <th>guild</th>\n",
       "      <th>merchantid</th>\n",
       "      <th>cost</th>\n",
       "      <th>countertype</th>\n",
       "      <th>date</th>\n",
       "      <th>fraudbits</th>\n",
       "      <th>model_cost</th>\n",
       "    </tr>\n",
       "  </thead>\n",
       "  <tbody>\n",
       "    <tr>\n",
       "      <th>0</th>\n",
       "      <td>0.46</td>\n",
       "      <td>Гильдия Парфюмеров</td>\n",
       "      <td>100299578</td>\n",
       "      <td>7.39</td>\n",
       "      <td>buy</td>\n",
       "      <td>924-09-27 12:57</td>\n",
       "      <td>0</td>\n",
       "      <td>30.0</td>\n",
       "    </tr>\n",
       "    <tr>\n",
       "      <th>1</th>\n",
       "      <td>0.57</td>\n",
       "      <td>Ассоциация Оливковых Торговцев</td>\n",
       "      <td>445135</td>\n",
       "      <td>22.47</td>\n",
       "      <td>sell</td>\n",
       "      <td>924-09-27 15:48</td>\n",
       "      <td>0</td>\n",
       "      <td>80.0</td>\n",
       "    </tr>\n",
       "    <tr>\n",
       "      <th>2</th>\n",
       "      <td>0.86</td>\n",
       "      <td>Гильдия Обработчиков Шерсти</td>\n",
       "      <td>57512</td>\n",
       "      <td>9.81</td>\n",
       "      <td>buy</td>\n",
       "      <td>924-09-27 18:51</td>\n",
       "      <td>0</td>\n",
       "      <td>690.0</td>\n",
       "    </tr>\n",
       "  </tbody>\n",
       "</table>\n",
       "</div>"
      ],
      "text/plain": [
       "   coef                           guild  merchantid   cost countertype  \\\n",
       "0  0.46              Гильдия Парфюмеров   100299578   7.39         buy   \n",
       "1  0.57  Ассоциация Оливковых Торговцев      445135  22.47        sell   \n",
       "2  0.86     Гильдия Обработчиков Шерсти       57512   9.81         buy   \n",
       "\n",
       "              date  fraudbits  model_cost  \n",
       "0  924-09-27 12:57          0        30.0  \n",
       "1  924-09-27 15:48          0        80.0  \n",
       "2  924-09-27 18:51          0       690.0  "
      ]
     },
     "execution_count": 3,
     "metadata": {},
     "output_type": "execute_result"
    }
   ],
   "source": [
    "trading = merchants.merge(transactions[transactions.fraudbits == 0], how='right')\n",
    "trading.head(3)"
   ]
  },
  {
   "cell_type": "markdown",
   "metadata": {},
   "source": [
    "Calculate the amnesty coefficient for each operation\n",
    "$$\\frac{|cost-model\\_cost|}{coef}$$"
   ]
  },
  {
   "cell_type": "code",
   "execution_count": 4,
   "metadata": {},
   "outputs": [
    {
     "data": {
      "text/html": [
       "<div>\n",
       "<style scoped>\n",
       "    .dataframe tbody tr th:only-of-type {\n",
       "        vertical-align: middle;\n",
       "    }\n",
       "\n",
       "    .dataframe tbody tr th {\n",
       "        vertical-align: top;\n",
       "    }\n",
       "\n",
       "    .dataframe thead th {\n",
       "        text-align: right;\n",
       "    }\n",
       "</style>\n",
       "<table border=\"1\" class=\"dataframe\">\n",
       "  <thead>\n",
       "    <tr style=\"text-align: right;\">\n",
       "      <th></th>\n",
       "      <th>coef</th>\n",
       "      <th>guild</th>\n",
       "      <th>merchantid</th>\n",
       "      <th>cost</th>\n",
       "      <th>countertype</th>\n",
       "      <th>date</th>\n",
       "      <th>fraudbits</th>\n",
       "      <th>model_cost</th>\n",
       "      <th>amnesty</th>\n",
       "    </tr>\n",
       "  </thead>\n",
       "  <tbody>\n",
       "    <tr>\n",
       "      <th>0</th>\n",
       "      <td>0.46</td>\n",
       "      <td>Гильдия Парфюмеров</td>\n",
       "      <td>100299578</td>\n",
       "      <td>7.39</td>\n",
       "      <td>buy</td>\n",
       "      <td>924-09-27 12:57</td>\n",
       "      <td>0</td>\n",
       "      <td>30.0</td>\n",
       "      <td>49.152174</td>\n",
       "    </tr>\n",
       "    <tr>\n",
       "      <th>1</th>\n",
       "      <td>0.57</td>\n",
       "      <td>Ассоциация Оливковых Торговцев</td>\n",
       "      <td>445135</td>\n",
       "      <td>22.47</td>\n",
       "      <td>sell</td>\n",
       "      <td>924-09-27 15:48</td>\n",
       "      <td>0</td>\n",
       "      <td>80.0</td>\n",
       "      <td>100.929825</td>\n",
       "    </tr>\n",
       "    <tr>\n",
       "      <th>2</th>\n",
       "      <td>0.86</td>\n",
       "      <td>Гильдия Обработчиков Шерсти</td>\n",
       "      <td>57512</td>\n",
       "      <td>9.81</td>\n",
       "      <td>buy</td>\n",
       "      <td>924-09-27 18:51</td>\n",
       "      <td>0</td>\n",
       "      <td>690.0</td>\n",
       "      <td>790.918605</td>\n",
       "    </tr>\n",
       "    <tr>\n",
       "      <th>3</th>\n",
       "      <td>0.42</td>\n",
       "      <td>Гильдия Обработчиков Шерсти</td>\n",
       "      <td>90356927</td>\n",
       "      <td>6.21</td>\n",
       "      <td>buy</td>\n",
       "      <td>924-09-27 20:05</td>\n",
       "      <td>0</td>\n",
       "      <td>32.5</td>\n",
       "      <td>62.595238</td>\n",
       "    </tr>\n",
       "    <tr>\n",
       "      <th>4</th>\n",
       "      <td>0.50</td>\n",
       "      <td>Ассоциация Оливковых Торговцев</td>\n",
       "      <td>64197274</td>\n",
       "      <td>41.04</td>\n",
       "      <td>buy</td>\n",
       "      <td>924-09-27 05:55</td>\n",
       "      <td>0</td>\n",
       "      <td>450.0</td>\n",
       "      <td>817.920000</td>\n",
       "    </tr>\n",
       "  </tbody>\n",
       "</table>\n",
       "</div>"
      ],
      "text/plain": [
       "   coef                           guild  merchantid   cost countertype  \\\n",
       "0  0.46              Гильдия Парфюмеров   100299578   7.39         buy   \n",
       "1  0.57  Ассоциация Оливковых Торговцев      445135  22.47        sell   \n",
       "2  0.86     Гильдия Обработчиков Шерсти       57512   9.81         buy   \n",
       "3  0.42     Гильдия Обработчиков Шерсти    90356927   6.21         buy   \n",
       "4  0.50  Ассоциация Оливковых Торговцев    64197274  41.04         buy   \n",
       "\n",
       "              date  fraudbits  model_cost     amnesty  \n",
       "0  924-09-27 12:57          0        30.0   49.152174  \n",
       "1  924-09-27 15:48          0        80.0  100.929825  \n",
       "2  924-09-27 18:51          0       690.0  790.918605  \n",
       "3  924-09-27 20:05          0        32.5   62.595238  \n",
       "4  924-09-27 05:55          0       450.0  817.920000  "
      ]
     },
     "execution_count": 4,
     "metadata": {},
     "output_type": "execute_result"
    }
   ],
   "source": [
    "trading['amnesty'] = abs(trading.cost - trading.model_cost) / trading.coef\n",
    "trading.head()"
   ]
  },
  {
   "cell_type": "code",
   "execution_count": 5,
   "metadata": {},
   "outputs": [
    {
     "data": {
      "text/html": [
       "<div>\n",
       "<style scoped>\n",
       "    .dataframe tbody tr th:only-of-type {\n",
       "        vertical-align: middle;\n",
       "    }\n",
       "\n",
       "    .dataframe tbody tr th {\n",
       "        vertical-align: top;\n",
       "    }\n",
       "\n",
       "    .dataframe thead th {\n",
       "        text-align: right;\n",
       "    }\n",
       "</style>\n",
       "<table border=\"1\" class=\"dataframe\">\n",
       "  <thead>\n",
       "    <tr style=\"text-align: right;\">\n",
       "      <th></th>\n",
       "      <th>guild</th>\n",
       "      <th>avg_amnesty</th>\n",
       "    </tr>\n",
       "  </thead>\n",
       "  <tbody>\n",
       "    <tr>\n",
       "      <th>0</th>\n",
       "      <td>Ассоциация Оливковых Торговцев</td>\n",
       "      <td>682.928338</td>\n",
       "    </tr>\n",
       "    <tr>\n",
       "      <th>1</th>\n",
       "      <td>Братство Виноделов</td>\n",
       "      <td>1726.452617</td>\n",
       "    </tr>\n",
       "    <tr>\n",
       "      <th>2</th>\n",
       "      <td>Братство Кузнецов</td>\n",
       "      <td>1835.734533</td>\n",
       "    </tr>\n",
       "  </tbody>\n",
       "</table>\n",
       "</div>"
      ],
      "text/plain": [
       "                            guild  avg_amnesty\n",
       "0  Ассоциация Оливковых Торговцев   682.928338\n",
       "1              Братство Виноделов  1726.452617\n",
       "2               Братство Кузнецов  1835.734533"
      ]
     },
     "execution_count": 5,
     "metadata": {},
     "output_type": "execute_result"
    }
   ],
   "source": [
    "# Calculate the average amnesty by guild\n",
    "average_amnesty = trading.groupby('guild', as_index=False) \\\n",
    "    .agg({'amnesty': 'mean'}) \\\n",
    "    .rename(columns={'amnesty': 'avg_amnesty'})\n",
    "average_amnesty.head(3)"
   ]
  },
  {
   "cell_type": "markdown",
   "metadata": {},
   "source": [
    "<b>Attention:</b> The ratio is calculated <b>not based on sum</b> but on the number of operations\n",
    "$$Ratio = \\frac{quantity_{sell}}{quantity_{buy}}$$\n",
    "$$\\overline{Amnesty_i}=\\frac{1}{k}\\sum_{j=1}^{k}Amnesty_{ij}$$\n",
    "$$i-some~guild,~~~~k-number~of~guild~operations$$\n",
    "$$Efficiency_i = Ratio_i * \\overline{Amnesty_i}$$"
   ]
  },
  {
   "cell_type": "code",
   "execution_count": 6,
   "metadata": {},
   "outputs": [
    {
     "data": {
      "text/html": [
       "<div>\n",
       "<style scoped>\n",
       "    .dataframe tbody tr th:only-of-type {\n",
       "        vertical-align: middle;\n",
       "    }\n",
       "\n",
       "    .dataframe tbody tr th {\n",
       "        vertical-align: top;\n",
       "    }\n",
       "\n",
       "    .dataframe thead th {\n",
       "        text-align: right;\n",
       "    }\n",
       "</style>\n",
       "<table border=\"1\" class=\"dataframe\">\n",
       "  <thead>\n",
       "    <tr style=\"text-align: right;\">\n",
       "      <th></th>\n",
       "      <th>guild</th>\n",
       "      <th>buy</th>\n",
       "      <th>sell</th>\n",
       "      <th>avg_amnesty</th>\n",
       "      <th>ratio</th>\n",
       "      <th>efficiency</th>\n",
       "    </tr>\n",
       "  </thead>\n",
       "  <tbody>\n",
       "    <tr>\n",
       "      <th>0</th>\n",
       "      <td>Братство Кузнецов</td>\n",
       "      <td>6161</td>\n",
       "      <td>659</td>\n",
       "      <td>1835.73</td>\n",
       "      <td>0.11</td>\n",
       "      <td>196.36</td>\n",
       "    </tr>\n",
       "  </tbody>\n",
       "</table>\n",
       "</div>"
      ],
      "text/plain": [
       "               guild   buy  sell  avg_amnesty  ratio  efficiency\n",
       "0  Братство Кузнецов  6161   659      1835.73   0.11      196.36"
      ]
     },
     "execution_count": 6,
     "metadata": {},
     "output_type": "execute_result"
    }
   ],
   "source": [
    "guilds = trading \\\n",
    "    .pivot_table(index='guild', columns='countertype',\n",
    "                 values='cost', aggfunc=pd.Series.count) \\\n",
    "    .reset_index()\n",
    "guilds = guilds.merge(average_amnesty)\n",
    "\n",
    "guilds['ratio'] = guilds.sell / guilds.buy\n",
    "guilds['efficiency'] = guilds.ratio * guilds.avg_amnesty\n",
    "\n",
    "# It is important to round to 2 decimal places\n",
    "guilds = guilds \\\n",
    "    .sort_values('efficiency', ascending=False) \\\n",
    "    .round(2) \\\n",
    "    .head(1) \\\n",
    "    .reset_index(drop=True)\n",
    "guilds"
   ]
  },
  {
   "cell_type": "code",
   "execution_count": 7,
   "metadata": {},
   "outputs": [],
   "source": [
    "# Filter data to include only entries with the guild 'Братство Кузнецов'\n",
    "trading = trading[trading.guild == guilds.guild.iloc[0]]\n",
    "# The date format '924-09-27 12:57' is hard to parse, so we check\n",
    "# the data in the column and confirm that everything is in the same format.\n",
    "# Therefore, we simply extract the hour substring from the string.\n",
    "trading['hour'] = trading.date.str[10:12]\n",
    "hour = trading.query('countertype == \"sell\"') \\\n",
    "    .hour \\\n",
    "    .value_counts() \\\n",
    "    .reset_index()[['hour']] \\\n",
    "    .head(1)"
   ]
  },
  {
   "cell_type": "code",
   "execution_count": 8,
   "metadata": {},
   "outputs": [
    {
     "data": {
      "text/html": [
       "<div>\n",
       "<style scoped>\n",
       "    .dataframe tbody tr th:only-of-type {\n",
       "        vertical-align: middle;\n",
       "    }\n",
       "\n",
       "    .dataframe tbody tr th {\n",
       "        vertical-align: top;\n",
       "    }\n",
       "\n",
       "    .dataframe thead th {\n",
       "        text-align: right;\n",
       "    }\n",
       "</style>\n",
       "<table border=\"1\" class=\"dataframe\">\n",
       "  <thead>\n",
       "    <tr style=\"text-align: right;\">\n",
       "      <th></th>\n",
       "      <th>guild</th>\n",
       "      <th>efficiency</th>\n",
       "      <th>hour</th>\n",
       "    </tr>\n",
       "  </thead>\n",
       "  <tbody>\n",
       "    <tr>\n",
       "      <th>0</th>\n",
       "      <td>Братство Кузнецов</td>\n",
       "      <td>196.36</td>\n",
       "      <td>21</td>\n",
       "    </tr>\n",
       "  </tbody>\n",
       "</table>\n",
       "</div>"
      ],
      "text/plain": [
       "               guild  efficiency hour\n",
       "0  Братство Кузнецов      196.36   21"
      ]
     },
     "execution_count": 8,
     "metadata": {},
     "output_type": "execute_result"
    }
   ],
   "source": [
    "efficiency_guild = pd.concat([guilds, hour], axis=1)[['guild', 'efficiency', 'hour']]\n",
    "efficiency_guild"
   ]
  }
 ],
 "metadata": {
  "kernelspec": {
   "display_name": "Python 3",
   "language": "python",
   "name": "python3"
  },
  "language_info": {
   "codemirror_mode": {
    "name": "ipython",
    "version": 3
   },
   "file_extension": ".py",
   "mimetype": "text/x-python",
   "name": "python",
   "nbconvert_exporter": "python",
   "pygments_lexer": "ipython3",
   "version": "3.11.3"
  }
 },
 "nbformat": 4,
 "nbformat_minor": 2
}
